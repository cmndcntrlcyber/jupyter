{
 "cells": [
  {
   "cell_type": "code",
   "execution_count": 1,
   "metadata": {},
   "outputs": [
    {
     "data": {
      "text/html": [
       "<div>\n",
       "<style scoped>\n",
       "    .dataframe tbody tr th:only-of-type {\n",
       "        vertical-align: middle;\n",
       "    }\n",
       "\n",
       "    .dataframe tbody tr th {\n",
       "        vertical-align: top;\n",
       "    }\n",
       "\n",
       "    .dataframe thead th {\n",
       "        text-align: right;\n",
       "    }\n",
       "</style>\n",
       "<table border=\"1\" class=\"dataframe\">\n",
       "  <thead>\n",
       "    <tr style=\"text-align: right;\">\n",
       "      <th></th>\n",
       "      <th>indicator</th>\n",
       "      <th>classification</th>\n",
       "      <th>confidence</th>\n",
       "      <th>itype</th>\n",
       "      <th>type</th>\n",
       "      <th>severity</th>\n",
       "      <th>tlp</th>\n",
       "      <th>source</th>\n",
       "      <th>feed_site_netloc</th>\n",
       "      <th>feed_name</th>\n",
       "      <th>detail</th>\n",
       "      <th>date_last</th>\n",
       "      <th>actor</th>\n",
       "      <th>campaign</th>\n",
       "      <th>id</th>\n",
       "      <th>recid</th>\n",
       "    </tr>\n",
       "  </thead>\n",
       "  <tbody>\n",
       "    <tr>\n",
       "      <th>0</th>\n",
       "      <td>http://blazeseher.xyz/gravitels.php</td>\n",
       "      <td>private</td>\n",
       "      <td>20</td>\n",
       "      <td>mal_url</td>\n",
       "      <td>url</td>\n",
       "      <td>low</td>\n",
       "      <td>TLP:WHITE</td>\n",
       "      <td>otx.alienvault.com:user_AlienVault</td>\n",
       "      <td>otx.alienvault.com</td>\n",
       "      <td>user_AlienVault</td>\n",
       "      <td>http://blazeseher.xyz/gravitels.php-from-https...</td>\n",
       "      <td>5/21/2020 21:04</td>\n",
       "      <td>NaN</td>\n",
       "      <td>NaN</td>\n",
       "      <td>alienvault-otx:Observable-8522172a-c50b-6ed3-9...</td>\n",
       "      <td>1455078</td>\n",
       "    </tr>\n",
       "    <tr>\n",
       "      <th>1</th>\n",
       "      <td>http://postgringos.com/sound.php</td>\n",
       "      <td>private</td>\n",
       "      <td>20</td>\n",
       "      <td>mal_url</td>\n",
       "      <td>url</td>\n",
       "      <td>low</td>\n",
       "      <td>TLP:WHITE</td>\n",
       "      <td>otx.alienvault.com:user_AlienVault</td>\n",
       "      <td>otx.alienvault.com</td>\n",
       "      <td>user_AlienVault</td>\n",
       "      <td>http://postgringos.com/sound.php-from-https://...</td>\n",
       "      <td>5/21/2020 21:04</td>\n",
       "      <td>NaN</td>\n",
       "      <td>NaN</td>\n",
       "      <td>alienvault-otx:Observable-9cb96ccb-9a11-2d1a-a...</td>\n",
       "      <td>1455236</td>\n",
       "    </tr>\n",
       "    <tr>\n",
       "      <th>2</th>\n",
       "      <td>http://tarsilh.com/sound.php</td>\n",
       "      <td>private</td>\n",
       "      <td>20</td>\n",
       "      <td>mal_url</td>\n",
       "      <td>url</td>\n",
       "      <td>low</td>\n",
       "      <td>TLP:WHITE</td>\n",
       "      <td>otx.alienvault.com:user_AlienVault</td>\n",
       "      <td>otx.alienvault.com</td>\n",
       "      <td>user_AlienVault</td>\n",
       "      <td>http://tarsilh.com/sound.php-from-https://otx....</td>\n",
       "      <td>5/21/2020 21:04</td>\n",
       "      <td>NaN</td>\n",
       "      <td>NaN</td>\n",
       "      <td>alienvault-otx:Observable-44b08647-30c4-b574-e...</td>\n",
       "      <td>1455235</td>\n",
       "    </tr>\n",
       "    <tr>\n",
       "      <th>3</th>\n",
       "      <td>http://naght.org/sound.php</td>\n",
       "      <td>private</td>\n",
       "      <td>20</td>\n",
       "      <td>mal_url</td>\n",
       "      <td>url</td>\n",
       "      <td>low</td>\n",
       "      <td>TLP:WHITE</td>\n",
       "      <td>otx.alienvault.com:user_AlienVault</td>\n",
       "      <td>otx.alienvault.com</td>\n",
       "      <td>user_AlienVault</td>\n",
       "      <td>http://naght.org/sound.php-from-https://otx.al...</td>\n",
       "      <td>5/21/2020 21:04</td>\n",
       "      <td>NaN</td>\n",
       "      <td>NaN</td>\n",
       "      <td>alienvault-otx:Observable-15cca039-3ef1-ec54-f...</td>\n",
       "      <td>1455234</td>\n",
       "    </tr>\n",
       "    <tr>\n",
       "      <th>4</th>\n",
       "      <td>http://lgepubbf.icu/wp-config.php</td>\n",
       "      <td>private</td>\n",
       "      <td>20</td>\n",
       "      <td>mal_url</td>\n",
       "      <td>url</td>\n",
       "      <td>low</td>\n",
       "      <td>TLP:WHITE</td>\n",
       "      <td>otx.alienvault.com:user_AlienVault</td>\n",
       "      <td>otx.alienvault.com</td>\n",
       "      <td>user_AlienVault</td>\n",
       "      <td>http://lgepubbf.icu/wp-config.php-from-https:/...</td>\n",
       "      <td>5/21/2020 21:04</td>\n",
       "      <td>NaN</td>\n",
       "      <td>NaN</td>\n",
       "      <td>alienvault-otx:Observable-9cc9c10e-909b-c041-c...</td>\n",
       "      <td>1455233</td>\n",
       "    </tr>\n",
       "    <tr>\n",
       "      <th>...</th>\n",
       "      <td>...</td>\n",
       "      <td>...</td>\n",
       "      <td>...</td>\n",
       "      <td>...</td>\n",
       "      <td>...</td>\n",
       "      <td>...</td>\n",
       "      <td>...</td>\n",
       "      <td>...</td>\n",
       "      <td>...</td>\n",
       "      <td>...</td>\n",
       "      <td>...</td>\n",
       "      <td>...</td>\n",
       "      <td>...</td>\n",
       "      <td>...</td>\n",
       "      <td>...</td>\n",
       "      <td>...</td>\n",
       "    </tr>\n",
       "    <tr>\n",
       "      <th>32785</th>\n",
       "      <td>http://159.226.88.110:44300</td>\n",
       "      <td>private</td>\n",
       "      <td>20</td>\n",
       "      <td>mal_url</td>\n",
       "      <td>url</td>\n",
       "      <td>low</td>\n",
       "      <td>TLP:WHITE</td>\n",
       "      <td>otx.alienvault.com:user_Sand-Storm</td>\n",
       "      <td>otx.alienvault.com</td>\n",
       "      <td>user_Sand-Storm</td>\n",
       "      <td>http://159.226.88.110:44300-from-https://otx.a...</td>\n",
       "      <td>5/17/2020 9:09</td>\n",
       "      <td>NaN</td>\n",
       "      <td>NaN</td>\n",
       "      <td>alienvault-otx:Observable-6b9c2cc5-5ca4-06c9-5...</td>\n",
       "      <td>1453442</td>\n",
       "    </tr>\n",
       "    <tr>\n",
       "      <th>32786</th>\n",
       "      <td>vega.up.krakow.pl</td>\n",
       "      <td>private</td>\n",
       "      <td>20</td>\n",
       "      <td>c2_domain</td>\n",
       "      <td>domain</td>\n",
       "      <td>low</td>\n",
       "      <td>TLP:WHITE</td>\n",
       "      <td>otx.alienvault.com:user_Sand-Storm</td>\n",
       "      <td>otx.alienvault.com</td>\n",
       "      <td>user_Sand-Storm</td>\n",
       "      <td>vega.up.krakow.pl-from-https://otx.alienvault....</td>\n",
       "      <td>5/17/2020 9:09</td>\n",
       "      <td>NaN</td>\n",
       "      <td>NaN</td>\n",
       "      <td>alienvault-otx:Observable-c69a9cd5-f65e-b719-2...</td>\n",
       "      <td>1453439</td>\n",
       "    </tr>\n",
       "    <tr>\n",
       "      <th>32787</th>\n",
       "      <td>51.75.52.118</td>\n",
       "      <td>private</td>\n",
       "      <td>20</td>\n",
       "      <td>c2_ip</td>\n",
       "      <td>ip</td>\n",
       "      <td>low</td>\n",
       "      <td>TLP:WHITE</td>\n",
       "      <td>otx.alienvault.com:user_Sand-Storm</td>\n",
       "      <td>otx.alienvault.com</td>\n",
       "      <td>user_Sand-Storm</td>\n",
       "      <td>51.75.52.118-from-https://otx.alienvault.com/p...</td>\n",
       "      <td>5/17/2020 9:09</td>\n",
       "      <td>NaN</td>\n",
       "      <td>NaN</td>\n",
       "      <td>alienvault-otx:Observable-9f6cd3f6-2752-9b86-b...</td>\n",
       "      <td>1453463</td>\n",
       "    </tr>\n",
       "    <tr>\n",
       "      <th>32788</th>\n",
       "      <td>202.120.58.243</td>\n",
       "      <td>private</td>\n",
       "      <td>20</td>\n",
       "      <td>c2_ip</td>\n",
       "      <td>ip</td>\n",
       "      <td>low</td>\n",
       "      <td>TLP:WHITE</td>\n",
       "      <td>otx.alienvault.com:user_Sand-Storm</td>\n",
       "      <td>otx.alienvault.com</td>\n",
       "      <td>user_Sand-Storm</td>\n",
       "      <td>202.120.58.243-from-https://otx.alienvault.com...</td>\n",
       "      <td>5/17/2020 9:09</td>\n",
       "      <td>NaN</td>\n",
       "      <td>NaN</td>\n",
       "      <td>alienvault-otx:Observable-cd72f6ff-5e3e-da68-c...</td>\n",
       "      <td>1453445</td>\n",
       "    </tr>\n",
       "    <tr>\n",
       "      <th>32789</th>\n",
       "      <td>51.75.144.43</td>\n",
       "      <td>private</td>\n",
       "      <td>20</td>\n",
       "      <td>c2_ip</td>\n",
       "      <td>ip</td>\n",
       "      <td>low</td>\n",
       "      <td>TLP:WHITE</td>\n",
       "      <td>otx.alienvault.com:user_Sand-Storm</td>\n",
       "      <td>otx.alienvault.com</td>\n",
       "      <td>user_Sand-Storm</td>\n",
       "      <td>51.75.144.43-from-https://otx.alienvault.com/p...</td>\n",
       "      <td>5/17/2020 9:09</td>\n",
       "      <td>NaN</td>\n",
       "      <td>NaN</td>\n",
       "      <td>alienvault-otx:Observable-2e5d587b-2382-c75e-a...</td>\n",
       "      <td>1453453</td>\n",
       "    </tr>\n",
       "  </tbody>\n",
       "</table>\n",
       "<p>32790 rows × 16 columns</p>\n",
       "</div>"
      ],
      "text/plain": [
       "                                 indicator classification  confidence  \\\n",
       "0      http://blazeseher.xyz/gravitels.php        private          20   \n",
       "1         http://postgringos.com/sound.php        private          20   \n",
       "2             http://tarsilh.com/sound.php        private          20   \n",
       "3               http://naght.org/sound.php        private          20   \n",
       "4        http://lgepubbf.icu/wp-config.php        private          20   \n",
       "...                                    ...            ...         ...   \n",
       "32785          http://159.226.88.110:44300        private          20   \n",
       "32786                    vega.up.krakow.pl        private          20   \n",
       "32787                         51.75.52.118        private          20   \n",
       "32788                       202.120.58.243        private          20   \n",
       "32789                         51.75.144.43        private          20   \n",
       "\n",
       "           itype    type severity        tlp  \\\n",
       "0        mal_url     url      low  TLP:WHITE   \n",
       "1        mal_url     url      low  TLP:WHITE   \n",
       "2        mal_url     url      low  TLP:WHITE   \n",
       "3        mal_url     url      low  TLP:WHITE   \n",
       "4        mal_url     url      low  TLP:WHITE   \n",
       "...          ...     ...      ...        ...   \n",
       "32785    mal_url     url      low  TLP:WHITE   \n",
       "32786  c2_domain  domain      low  TLP:WHITE   \n",
       "32787      c2_ip      ip      low  TLP:WHITE   \n",
       "32788      c2_ip      ip      low  TLP:WHITE   \n",
       "32789      c2_ip      ip      low  TLP:WHITE   \n",
       "\n",
       "                                   source    feed_site_netloc  \\\n",
       "0      otx.alienvault.com:user_AlienVault  otx.alienvault.com   \n",
       "1      otx.alienvault.com:user_AlienVault  otx.alienvault.com   \n",
       "2      otx.alienvault.com:user_AlienVault  otx.alienvault.com   \n",
       "3      otx.alienvault.com:user_AlienVault  otx.alienvault.com   \n",
       "4      otx.alienvault.com:user_AlienVault  otx.alienvault.com   \n",
       "...                                   ...                 ...   \n",
       "32785  otx.alienvault.com:user_Sand-Storm  otx.alienvault.com   \n",
       "32786  otx.alienvault.com:user_Sand-Storm  otx.alienvault.com   \n",
       "32787  otx.alienvault.com:user_Sand-Storm  otx.alienvault.com   \n",
       "32788  otx.alienvault.com:user_Sand-Storm  otx.alienvault.com   \n",
       "32789  otx.alienvault.com:user_Sand-Storm  otx.alienvault.com   \n",
       "\n",
       "             feed_name                                             detail  \\\n",
       "0      user_AlienVault  http://blazeseher.xyz/gravitels.php-from-https...   \n",
       "1      user_AlienVault  http://postgringos.com/sound.php-from-https://...   \n",
       "2      user_AlienVault  http://tarsilh.com/sound.php-from-https://otx....   \n",
       "3      user_AlienVault  http://naght.org/sound.php-from-https://otx.al...   \n",
       "4      user_AlienVault  http://lgepubbf.icu/wp-config.php-from-https:/...   \n",
       "...                ...                                                ...   \n",
       "32785  user_Sand-Storm  http://159.226.88.110:44300-from-https://otx.a...   \n",
       "32786  user_Sand-Storm  vega.up.krakow.pl-from-https://otx.alienvault....   \n",
       "32787  user_Sand-Storm  51.75.52.118-from-https://otx.alienvault.com/p...   \n",
       "32788  user_Sand-Storm  202.120.58.243-from-https://otx.alienvault.com...   \n",
       "32789  user_Sand-Storm  51.75.144.43-from-https://otx.alienvault.com/p...   \n",
       "\n",
       "             date_last  actor  campaign  \\\n",
       "0      5/21/2020 21:04    NaN       NaN   \n",
       "1      5/21/2020 21:04    NaN       NaN   \n",
       "2      5/21/2020 21:04    NaN       NaN   \n",
       "3      5/21/2020 21:04    NaN       NaN   \n",
       "4      5/21/2020 21:04    NaN       NaN   \n",
       "...                ...    ...       ...   \n",
       "32785   5/17/2020 9:09    NaN       NaN   \n",
       "32786   5/17/2020 9:09    NaN       NaN   \n",
       "32787   5/17/2020 9:09    NaN       NaN   \n",
       "32788   5/17/2020 9:09    NaN       NaN   \n",
       "32789   5/17/2020 9:09    NaN       NaN   \n",
       "\n",
       "                                                      id    recid  \n",
       "0      alienvault-otx:Observable-8522172a-c50b-6ed3-9...  1455078  \n",
       "1      alienvault-otx:Observable-9cb96ccb-9a11-2d1a-a...  1455236  \n",
       "2      alienvault-otx:Observable-44b08647-30c4-b574-e...  1455235  \n",
       "3      alienvault-otx:Observable-15cca039-3ef1-ec54-f...  1455234  \n",
       "4      alienvault-otx:Observable-9cc9c10e-909b-c041-c...  1455233  \n",
       "...                                                  ...      ...  \n",
       "32785  alienvault-otx:Observable-6b9c2cc5-5ca4-06c9-5...  1453442  \n",
       "32786  alienvault-otx:Observable-c69a9cd5-f65e-b719-2...  1453439  \n",
       "32787  alienvault-otx:Observable-9f6cd3f6-2752-9b86-b...  1453463  \n",
       "32788  alienvault-otx:Observable-cd72f6ff-5e3e-da68-c...  1453445  \n",
       "32789  alienvault-otx:Observable-2e5d587b-2382-c75e-a...  1453453  \n",
       "\n",
       "[32790 rows x 16 columns]"
      ]
     },
     "execution_count": 1,
     "metadata": {},
     "output_type": "execute_result"
    }
   ],
   "source": [
    "import matplotlib.pyplot as plt  # data viz\n",
    "import pandas as pd  # pandas, our library for representing tabular data\n",
    "import seaborn as sns  # data viz\n",
    "import numpy as np\n",
    "from matplotlib.patches import Ellipse\n",
    "import matplotlib.transforms as transforms\n",
    "\n",
    "df = pd.read_csv('Z://Information/May/18-22 May/22-May.csv')\n",
    "\n",
    "df \n",
    "\n",
    "#plt.hist(df['type'], edgecolor='black', bins=7)\n",
    "\n",
    "#plt.boxplot(df['severity'])\n",
    "\n",
    "#sns.barplot(data=df, y='confidence', x='type')\n",
    "\n",
    "#plt.scatter(data=df, y='confidence', x='severity')\n",
    "\n",
    "#fig = plt.gcf()\n",
    "#fig.set_size_inches(12, 6)"
   ]
  },
  {
   "cell_type": "code",
   "execution_count": 4,
   "metadata": {},
   "outputs": [
    {
     "data": {
      "text/plain": [
       "count             32790\n",
       "unique            15334\n",
       "top       194.61.55.164\n",
       "freq                 24\n",
       "Name: indicator, dtype: object"
      ]
     },
     "execution_count": 4,
     "metadata": {},
     "output_type": "execute_result"
    }
   ],
   "source": [
    "df['indicator'].describe()"
   ]
  },
  {
   "cell_type": "code",
   "execution_count": 4,
   "metadata": {},
   "outputs": [
    {
     "data": {
      "text/plain": [
       "count      32790\n",
       "unique        14\n",
       "top       ssh_ip\n",
       "freq       17215\n",
       "Name: itype, dtype: object"
      ]
     },
     "execution_count": 4,
     "metadata": {},
     "output_type": "execute_result"
    }
   ],
   "source": [
    "df['itype'].describe()"
   ]
  },
  {
   "cell_type": "code",
   "execution_count": 6,
   "metadata": {},
   "outputs": [
    {
     "data": {
      "text/plain": [
       "count    32790.0\n",
       "mean        20.0\n",
       "std          0.0\n",
       "min         20.0\n",
       "25%         20.0\n",
       "50%         20.0\n",
       "75%         20.0\n",
       "max         20.0\n",
       "Name: confidence, dtype: float64"
      ]
     },
     "execution_count": 6,
     "metadata": {},
     "output_type": "execute_result"
    }
   ],
   "source": [
    "df['confidence'].describe()"
   ]
  },
  {
   "cell_type": "code",
   "execution_count": null,
   "metadata": {},
   "outputs": [],
   "source": [
    "df['severity'].describe()"
   ]
  },
  {
   "cell_type": "code",
   "execution_count": 11,
   "metadata": {},
   "outputs": [
    {
     "data": {
      "image/png": "[encoded data removed]",
      "text/plain": [
       "<Figure size 216x2880 with 1 Axes>"
      ]
     },
     "metadata": {
      "needs_background": "light"
     },
     "output_type": "display_data"
    }
   ],
   "source": [
    "plt.barh(df['itype'], width=10, edgecolor='black')\n",
    "fig = plt.gcf()\n",
    "fig.set_size_inches(3, 40)"
   ]
  },
  {
   "cell_type": "code",
   "execution_count": 8,
   "metadata": {},
   "outputs": [
    {
     "data": {
      "text/plain": [
       "{'whiskers': [<matplotlib.lines.Line2D at 0x2b39d2ebac8>,\n",
       "  <matplotlib.lines.Line2D at 0x2b39d2ebc08>],\n",
       " 'caps': [<matplotlib.lines.Line2D at 0x2b39d2de208>,\n",
       "  <matplotlib.lines.Line2D at 0x2b39d326ac8>],\n",
       " 'boxes': [<matplotlib.lines.Line2D at 0x2b39d2a9688>],\n",
       " 'medians': [<matplotlib.lines.Line2D at 0x2b39d30b688>],\n",
       " 'fliers': [<matplotlib.lines.Line2D at 0x2b39d332148>],\n",
       " 'means': []}"
      ]
     },
     "execution_count": 8,
     "metadata": {},
     "output_type": "execute_result"
    },
    {
     "data": {
      "image/png": "[encoded data removed]",
      "text/plain": [
       "<Figure size 432x288 with 1 Axes>"
      ]
     },
     "metadata": {
      "needs_background": "light"
     },
     "output_type": "display_data"
    }
   ],
   "source": [
    "plt.boxplot(df['confidence'])"
   ]
  },
  {
   "cell_type": "code",
   "execution_count": 16,
   "metadata": {},
   "outputs": [
    {
     "data": {
      "text/plain": [
       "<matplotlib.axes._subplots.AxesSubplot at 0x2b39bc99108>"
      ]
     },
     "execution_count": 16,
     "metadata": {},
     "output_type": "execute_result"
    },
    {
     "data": {
      "image/png": "[encoded data removed]",
      "text/plain": [
       "<Figure size 432x288 with 1 Axes>"
      ]
     },
     "metadata": {
      "needs_background": "light"
     },
     "output_type": "display_data"
    }
   ],
   "source": [
    "sns.barplot(data=df, y='confidence', x='itype', hue='severity')"
   ]
  },
  {
   "cell_type": "code",
   "execution_count": 10,
   "metadata": {},
   "outputs": [
    {
     "data": {
      "image/png": "[encoded data removed]",
      "text/plain": [
       "<Figure size 360x360 with 1 Axes>"
      ]
     },
     "metadata": {
      "needs_background": "light"
     },
     "output_type": "display_data"
    }
   ],
   "source": [
    "#c = np.array('confidence')\n",
    "plt.scatter(data=df, y='confidence', x='itype')\n",
    "#plt.axvline(x=c.mean(), linewidth=2, color = 'r')\n",
    "fig = plt.gcf()\n",
    "fig.set_size_inches(5, 5)"
   ]
  },
  {
   "cell_type": "code",
   "execution_count": null,
   "metadata": {},
   "outputs": [],
   "source": []
  }
 ],
 "metadata": {
  "kernelspec": {
   "display_name": "Python 3",
   "language": "python",
   "name": "python3"
  },
  "language_info": {
   "codemirror_mode": {
    "name": "ipython",
    "version": 3
   },
   "file_extension": ".py",
   "mimetype": "text/x-python",
   "name": "python",
   "nbconvert_exporter": "python",
   "pygments_lexer": "ipython3",
   "version": "3.7.6"
  }
 },
 "nbformat": 4,
 "nbformat_minor": 4
}
