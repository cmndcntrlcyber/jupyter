{
 "cells": [
  {
   "cell_type": "code",
   "execution_count": null,
   "metadata": {},
   "outputs": [],
   "source": [
    "import matplotlib.pyplot as plt  # data viz\n",
    "import pandas as pd  # pandas, our library for representing tabular data\n",
    "import seaborn as sns  # data viz\n",
    "import numpy as np\n",
    "from matplotlib.patches import Ellipse\n",
    "import matplotlib.transforms as transforms\n",
    "\n",
    "df = pd.read_csv('')\n",
    "\n",
    "df \n",
    "\n",
    "#plt.hist(df['type'], edgecolor='black', bins=7)\n",
    "\n",
    "#plt.boxplot(df['severity'])\n",
    "\n",
    "#sns.barplot(data=df, y='confidence', x='type')\n",
    "\n",
    "#plt.scatter(data=df, y='confidence', x='severity')\n",
    "\n",
    "#fig = plt.gcf()\n",
    "#fig.set_size_inches(12, 6)"
   ]
  },
  {
   "cell_type": "markdown",
   "metadata": {},
   "source": [
    "df['indicator'].describe()"
   ]
  },
  {
   "cell_type": "code",
   "execution_count": null,
   "metadata": {},
   "outputs": [],
   "source": [
    "df['itype'].describe()"
   ]
  },
  {
   "cell_type": "code",
   "execution_count": null,
   "metadata": {},
   "outputs": [],
   "source": [
    "df['confidence'].describe()"
   ]
  },
  {
   "cell_type": "code",
   "execution_count": null,
   "metadata": {},
   "outputs": [],
   "source": [
    "df['severity'].describe()"
   ]
  },
  {
   "cell_type": "code",
   "execution_count": null,
   "metadata": {},
   "outputs": [],
   "source": [
    "plt.barh(df['itype'], width=10, edgecolor='black')\n",
    "fig = plt.gcf()\n",
    "fig.set_size_inches(3, 40)"
   ]
  },
  {
   "cell_type": "code",
   "execution_count": null,
   "metadata": {},
   "outputs": [],
   "source": [
    "plt.boxplot(df['confidence'])"
   ]
  },
  {
   "cell_type": "code",
   "execution_count": null,
   "metadata": {},
   "outputs": [],
   "source": [
    "sns.barplot(data=df, y='confidence', x='itype', hue='severity')"
   ]
  },
  {
   "cell_type": "code",
   "execution_count": null,
   "metadata": {},
   "outputs": [],
   "source": [
    "#c = np.array('confidence')\n",
    "plt.scatter(data=df, y='confidence', x='itype')\n",
    "#plt.axvline(x=c.mean(), linewidth=2, color = 'r')\n",
    "fig = plt.gcf()\n",
    "fig.set_size_inches(5, 5)"
   ]
  }
 ],
 "metadata": {
  "kernelspec": {
   "display_name": "Python 3",
   "language": "python",
   "name": "python3"
  },
  "language_info": {
   "codemirror_mode": {
    "name": "ipython",
    "version": 3
   },
   "file_extension": ".py",
   "mimetype": "text/x-python",
   "name": "python",
   "nbconvert_exporter": "python",
   "pygments_lexer": "ipython3",
   "version": "3.7.6"
  }
 },
 "nbformat": 4,
 "nbformat_minor": 4
}
